{
  "nbformat": 4,
  "nbformat_minor": 0,
  "metadata": {
    "colab": {
      "provenance": []
    },
    "kernelspec": {
      "name": "python3",
      "display_name": "Python 3"
    },
    "language_info": {
      "name": "python"
    }
  },
  "cells": [
    {
      "cell_type": "markdown",
      "source": [
        "# Student Name: Luja Ratna Manandhar\n",
        "# Student Id: 2407087"
      ],
      "metadata": {
        "id": "bJsgNvatQNcv"
      }
    },
    {
      "cell_type": "markdown",
      "source": [
        "# **3 Getting Started with Numpy.**\n",
        " This Section contains all the sample code from the slides and are here for your reference, you are highly\n",
        " recommended to run all the code with some of the input changed in order to understand the meaning of the operations and also to be able to solve all the exercises from further sections.\n",
        "\n",
        "\n",
        " **• Cautions!!!:–**\n",
        "\n",
        "  This Guide does not contain sample output, as we expect you to re-write the code and observe\n",
        " the output.– If found: any error or bugs, please report to your instructor and Module leader.\n",
        " {Will hugely appreciate your effort.}"
      ],
      "metadata": {
        "id": "5AbeDAEVNf7D"
      }
    },
    {
      "cell_type": "markdown",
      "source": [
        "# 3.1 Array Introduction:\n",
        "# 1. Importing Numpy:\n",
        "\n",
        " **Sample Code from Slide- 14- Importing Numpy and Array Type.**"
      ],
      "metadata": {
        "id": "H_80JptyOEdj"
      }
    },
    {
      "cell_type": "code",
      "source": [
        "import numpy as np\n",
        " # Create and display zero, one, and n-dimensional arrays\n",
        "zero_dim_array = np.array(5)\n",
        "one_dim_array = np.array([1, 2, 3])\n",
        "n_dim_array = np.array([[1, 2], [3, 4]])\n",
        "for arr in [zero_dim_array, one_dim_array, n_dim_array]:\n",
        "  print(f\"Array:\\n{arr}\\nDimension: {arr.ndim}\\nData type: {arr.dtype}\\n\")"
      ],
      "metadata": {
        "colab": {
          "base_uri": "https://localhost:8080/"
        },
        "id": "vMIBrBEAONDb",
        "outputId": "d2737e2c-eb8a-406f-e4b2-0ecb5377e52d"
      },
      "execution_count": null,
      "outputs": [
        {
          "output_type": "stream",
          "name": "stdout",
          "text": [
            "Array:\n",
            "5\n",
            "Dimension: 0\n",
            "Data type: int64\n",
            "\n",
            "Array:\n",
            "[1 2 3]\n",
            "Dimension: 1\n",
            "Data type: int64\n",
            "\n",
            "Array:\n",
            "[[1 2]\n",
            " [3 4]]\n",
            "Dimension: 2\n",
            "Data type: int64\n",
            "\n"
          ]
        }
      ]
    },
    {
      "cell_type": "markdown",
      "source": [
        "# 2. Array Dimensions: Shape and Resahpe of Array:\n",
        " **Sample Code from Slide- 16- Shape of an Array**"
      ],
      "metadata": {
        "id": "30lHMqztOTe5"
      }
    },
    {
      "cell_type": "code",
      "source": [
        "import numpy as np\n",
        " # Create arrays of different dimensions\n",
        "array_0d = np.array(5)\n",
        "array_1d = np.array([1, 2, 3, 4, 5])\n",
        "array_2d = np.array([[1, 2, 3], [4, 5, 6]])\n",
        "array_3d = np.array([[[1, 2], [3, 4]], [[5, 6], [7, 8]]])\n",
        " # Print arrays with shapes\n",
        "for i, arr in enumerate([array_0d, array_1d, array_2d, array_3d]):\n",
        " print(f\"{i}D Array:\\n{arr}\\nShape: {arr.shape}\\n\")"
      ],
      "metadata": {
        "colab": {
          "base_uri": "https://localhost:8080/"
        },
        "id": "eWmIZ3CcOmDg",
        "outputId": "2cf8394f-641e-4a9a-effe-e7503a83fd22"
      },
      "execution_count": null,
      "outputs": [
        {
          "output_type": "stream",
          "name": "stdout",
          "text": [
            "0D Array:\n",
            "5\n",
            "Shape: ()\n",
            "\n",
            "1D Array:\n",
            "[1 2 3 4 5]\n",
            "Shape: (5,)\n",
            "\n",
            "2D Array:\n",
            "[[1 2 3]\n",
            " [4 5 6]]\n",
            "Shape: (2, 3)\n",
            "\n",
            "3D Array:\n",
            "[[[1 2]\n",
            "  [3 4]]\n",
            "\n",
            " [[5 6]\n",
            "  [7 8]]]\n",
            "Shape: (2, 2, 2)\n",
            "\n"
          ]
        }
      ]
    },
    {
      "cell_type": "markdown",
      "source": [
        "**Sample Code from Slide- 17- Reshaping an Array.**"
      ],
      "metadata": {
        "id": "0QBIm-8AOs-t"
      }
    },
    {
      "cell_type": "code",
      "source": [
        "import numpy as np\n",
        "array = np.array([[1, 2, 3], [4, 5, 6]]) # Shape (2, 3)\n",
        "reshaped_array = array.reshape(3, 2) # Reshape to (3, 2), keeping 6 elements\n",
        "print(\"Original Shape:\", array.shape, \"\\nReshaped Shape:\", reshaped_array.shape)"
      ],
      "metadata": {
        "colab": {
          "base_uri": "https://localhost:8080/"
        },
        "id": "QgqBezUZOx-f",
        "outputId": "ec6e55ab-d1b0-4cb3-d2d4-4435cee0dace"
      },
      "execution_count": null,
      "outputs": [
        {
          "output_type": "stream",
          "name": "stdout",
          "text": [
            "Original Shape: (2, 3) \n",
            "Reshaped Shape: (3, 2)\n"
          ]
        }
      ]
    },
    {
      "cell_type": "markdown",
      "source": [
        "# 3.2 ArrayCreation:\n",
        "# 1.UsingIn-BuiltFunction:\n",
        "\n",
        " Sample Code from Slide-18-Arrays with evenly Spaced values-arange."
      ],
      "metadata": {
        "id": "R-8g2O9jO4Aa"
      }
    },
    {
      "cell_type": "code",
      "source": [
        "import numpy as np\n",
        "a=np.arange(1, 10)\n",
        "print(a)\n",
        "x=range(1,10)\n",
        "print(x)#xisan iterator\n",
        "print(list(x))\n",
        "#furtherarange examples:\n",
        "x=np.arange(10.4)\n",
        "print(x)\n",
        "x=np.arange(0.5, 10.4,0.8)\n",
        "print(x)"
      ],
      "metadata": {
        "colab": {
          "base_uri": "https://localhost:8080/"
        },
        "id": "KqU_t5PIPPVQ",
        "outputId": "26d6b93e-cc8c-4149-d360-0a1de00e9184"
      },
      "execution_count": null,
      "outputs": [
        {
          "output_type": "stream",
          "name": "stdout",
          "text": [
            "[1 2 3 4 5 6 7 8 9]\n",
            "range(1, 10)\n",
            "[1, 2, 3, 4, 5, 6, 7, 8, 9]\n",
            "[ 0.  1.  2.  3.  4.  5.  6.  7.  8.  9. 10.]\n",
            "[ 0.5  1.3  2.1  2.9  3.7  4.5  5.3  6.1  6.9  7.7  8.5  9.3 10.1]\n"
          ]
        }
      ]
    },
    {
      "cell_type": "markdown",
      "source": [
        "**Sample Code from Slide-19-Arrays with evenly Spaced values- linspace.**"
      ],
      "metadata": {
        "id": "L8mm3PH9Pijc"
      }
    },
    {
      "cell_type": "code",
      "source": [
        "import numpy as np\n",
        "#50valuesbetween1and10:\n",
        "print(np.linspace(1,10))\n",
        "#7valuesbetween 1and10:\n",
        "print(np.linspace(1,10,7))\n",
        "#excludingtheendpoint:\n",
        "print(np.linspace(1,10,7,endpoint=False))"
      ],
      "metadata": {
        "colab": {
          "base_uri": "https://localhost:8080/"
        },
        "id": "rxq3WIFRPql2",
        "outputId": "20761dfb-a013-4e92-c2c1-fce197cee9cd"
      },
      "execution_count": null,
      "outputs": [
        {
          "output_type": "stream",
          "name": "stdout",
          "text": [
            "[ 1.          1.18367347  1.36734694  1.55102041  1.73469388  1.91836735\n",
            "  2.10204082  2.28571429  2.46938776  2.65306122  2.83673469  3.02040816\n",
            "  3.20408163  3.3877551   3.57142857  3.75510204  3.93877551  4.12244898\n",
            "  4.30612245  4.48979592  4.67346939  4.85714286  5.04081633  5.2244898\n",
            "  5.40816327  5.59183673  5.7755102   5.95918367  6.14285714  6.32653061\n",
            "  6.51020408  6.69387755  6.87755102  7.06122449  7.24489796  7.42857143\n",
            "  7.6122449   7.79591837  7.97959184  8.16326531  8.34693878  8.53061224\n",
            "  8.71428571  8.89795918  9.08163265  9.26530612  9.44897959  9.63265306\n",
            "  9.81632653 10.        ]\n",
            "[ 1.   2.5  4.   5.5  7.   8.5 10. ]\n",
            "[1.         2.28571429 3.57142857 4.85714286 6.14285714 7.42857143\n",
            " 8.71428571]\n"
          ]
        }
      ]
    },
    {
      "cell_type": "markdown",
      "source": [
        "# 2. Initializing Arrays with Ones,Zeros and Empty:\n",
        "\n",
        " Sample Code form slide-20-Initializing an Array."
      ],
      "metadata": {
        "id": "p3NKyXy6QB7-"
      }
    },
    {
      "cell_type": "code",
      "source": [
        "import numpy as np\n",
        "#Createarraysof specifiedshapes\n",
        "ones_array=np.ones((2,3))#Shape:(2,3)\n",
        "zeros_array=np.zeros((3,2))#Shape:(3,2)\n",
        "empty_array=np.empty((2,2))#Shape:(2,2)\n",
        "identity_matrix=np.eye(3)#Shape:(3,3)\n",
        "print(ones_array,zeros_array,empty_array,identity_matrix,sep='\\n\\n')"
      ],
      "metadata": {
        "colab": {
          "base_uri": "https://localhost:8080/"
        },
        "id": "9PFA4BQ6QJpK",
        "outputId": "a23a1b22-0584-481b-916d-00f8b4b1ea56"
      },
      "execution_count": null,
      "outputs": [
        {
          "output_type": "stream",
          "name": "stdout",
          "text": [
            "[[1. 1. 1.]\n",
            " [1. 1. 1.]]\n",
            "\n",
            "[[0. 0.]\n",
            " [0. 0.]\n",
            " [0. 0.]]\n",
            "\n",
            "[[5.06815564e-310 0.00000000e+000]\n",
            " [6.87613853e-310 6.87613853e-310]]\n",
            "\n",
            "[[1. 0. 0.]\n",
            " [0. 1. 0.]\n",
            " [0. 0. 1.]]\n"
          ]
        }
      ]
    },
    {
      "cell_type": "markdown",
      "source": [
        "# 3. By Manipulating Existing Array:\n",
        "# 3.1 Using np.array:\n",
        "\n",
        " Sample Code form slide-21-Converting list to array usingnp.array."
      ],
      "metadata": {
        "id": "gRt2v-iDQTZO"
      }
    },
    {
      "cell_type": "code",
      "source": [
        "import numpy as np\n",
        "array_from_list=np.array([1,2,3])#[123]\n",
        "array_from_tuple = np.array((4,5,6))#[456]\n",
        "array_from_nested_list=np.array([[1,2,3],[4,5,6]])#[[123][456]]\n",
        "print(array_from_list,array_from_tuple,array_from_nested_list,sep='\\n')"
      ],
      "metadata": {
        "colab": {
          "base_uri": "https://localhost:8080/"
        },
        "id": "imHQbntjQmzD",
        "outputId": "7bd8e324-725f-4432-f318-c0b404018615"
      },
      "execution_count": null,
      "outputs": [
        {
          "output_type": "stream",
          "name": "stdout",
          "text": [
            "[1 2 3]\n",
            "[4 5 6]\n",
            "[[1 2 3]\n",
            " [4 5 6]]\n"
          ]
        }
      ]
    },
    {
      "cell_type": "markdown",
      "source": [
        "# 3.2 Using shape of an existing array:\n",
        "\n",
        " Sample Code form slide-22-From shape of an existing array."
      ],
      "metadata": {
        "id": "VQ8GKBvpRRWB"
      }
    },
    {
      "cell_type": "code",
      "source": [
        "import numpy as np\n",
        "#ExistingArray ofShape:(2,3)\n",
        "arr=np.array([[1,2,3],[4,5,6]])\n",
        "#CreatingArray withShapeofexistingarray:\n",
        "zeros, ones,empty =np.zeros(arr.shape),np.ones(arr.shape),np.empty(arr.shape)#Shape: (2,3)\n",
        "print(arr,zeros,ones,empty,sep='\\n')"
      ],
      "metadata": {
        "colab": {
          "base_uri": "https://localhost:8080/"
        },
        "id": "Bgz4ASXoRaT9",
        "outputId": "9818e568-f9d8-4d6a-cd3f-252ddf76a69b"
      },
      "execution_count": null,
      "outputs": [
        {
          "output_type": "stream",
          "name": "stdout",
          "text": [
            "[[1 2 3]\n",
            " [4 5 6]]\n",
            "[[0. 0. 0.]\n",
            " [0. 0. 0.]]\n",
            "[[1. 1. 1.]\n",
            " [1. 1. 1.]]\n",
            "[[5.06815565e-310 0.00000000e+000 1.58101007e-322]\n",
            " [1.58101007e-322 1.23746313e-313 0.00000000e+000]]\n"
          ]
        }
      ]
    },
    {
      "cell_type": "markdown",
      "source": [
        "# 3.3 With Math,Copying or Slicing and Array:\n",
        " **Sample Code form slide-23-Manipulatiing existing array.**"
      ],
      "metadata": {
        "id": "wnLzN5I1Rm_5"
      }
    },
    {
      "cell_type": "code",
      "source": [
        "import numpy as np\n",
        "array=np.array([1,2,3])\n",
        "#Multiplieseachelementby2,result:[2,4,6]\n",
        "new_array=array*2\n",
        "#Createsanewarraywiththesameelements\n",
        "copied_array=np.copy(array)\n",
        "#Sliceselementsfromindex1to3,result:[2]\n",
        "sliced_array=array[1:2]"
      ],
      "metadata": {
        "id": "88bPTIvESEMA"
      },
      "execution_count": null,
      "outputs": []
    },
    {
      "cell_type": "markdown",
      "source": [
        "**Sample Code form slide-26-With Concatenating Operation.**"
      ],
      "metadata": {
        "id": "zDMQhsjnSYDe"
      }
    },
    {
      "cell_type": "code",
      "source": [
        "import numpy as np\n",
        "arr1= np.array([[1,2],[3,4]])#Shape:(2,2)\n",
        "arr2= np.array([[5,6],[7,8]])#Shape:(2,2)\n",
        "concat_axis0=np.concatenate((arr1,arr2),axis=0)\n",
        "#Concatenatealongaxis0(vertical)Shape:(4,2)\n",
        "concat_axis1=np.concatenate((arr1,arr2),axis=1)\n",
        "#Concatenatealongaxis1(horizontal)Shape:(2,4)\n",
        "print(concat_axis0,concat_axis1,sep='\\n')"
      ],
      "metadata": {
        "id": "ml5iojhdSdQZ"
      },
      "execution_count": null,
      "outputs": []
    },
    {
      "cell_type": "markdown",
      "source": [
        "# 3.4 Array: Indexing and Slicing:\n",
        " **Sample Code form slide-34-Sample Code for Indexing and Slicing.**"
      ],
      "metadata": {
        "id": "zHir1fdZSqQ5"
      }
    },
    {
      "cell_type": "code",
      "source": [
        "import numpy as np\n",
        "#Arrays\n",
        "arr1d=np.array([0,1,2,3,4,5])\n",
        "arr2d=np.array([[0,1,2],[3,4,5],[6,7,8]])\n",
        "arr3d=np.array([[[0,1],[2,3]],[[4,5],[6,7]],[[8,9],[10,11]]])\n",
        "#Slicingexamples\n",
        "print(\"Basic:\",arr1d[1:4],arr2d[1:3,0:2],arr3d[1:2,0:2,1:2])\n",
        "#OutputBasic:arr1d:[123]arr2d:[[34][67]]arr3d:[[[5][7]]]\n",
        "print(\"Step:\",arr1d[1:5:2],arr2d[::2,1::2],arr3d[::2,::2,1::2])\n",
        "#Output:Step:[1 3][[1][7]][[[1][9]]]"
      ],
      "metadata": {
        "colab": {
          "base_uri": "https://localhost:8080/"
        },
        "id": "KXTlBnPpSyaI",
        "outputId": "dd873891-4238-48a4-ed67-d4ecc6ec26f4"
      },
      "execution_count": null,
      "outputs": [
        {
          "output_type": "stream",
          "name": "stdout",
          "text": [
            "Basic: [1 2 3] [[3 4]\n",
            " [6 7]] [[[5]\n",
            "  [7]]]\n",
            "Step: [1 3] [[1]\n",
            " [7]] [[[1]]\n",
            "\n",
            " [[9]]]\n"
          ]
        }
      ]
    },
    {
      "cell_type": "markdown",
      "source": [
        "# 3.3 Array Mathematics:\n",
        "# 1.Elementary Mathematical Operation with universal functions.\n",
        " **Sample Code form slide-37-Intriduction to \"ufuncs\".**"
      ],
      "metadata": {
        "id": "XH_lEyHaTHzv"
      }
    },
    {
      "cell_type": "code",
      "source": [
        "import numpy as np\n",
        "arr1= np.array([1,2,3])\n",
        "arr2= np.array([4,5,6])\n",
        "print(\"Add:\",np.add(arr1,arr2))#OutputAdd:[579]\n",
        "print(\"Subtract:\", np.subtract(arr1,arr2))\n",
        "#OutputSubtract: [-3-3-3]\n",
        "print(\"Divide:\", np.divide(arr1,arr2))\n",
        "#OutputDivide: [0.250.40.5]\n",
        "print(\"Multiply:\", np.multiply(arr1,arr2))\n",
        "#OutputMultiply: [41018]\n",
        "print(\"Power:\",np.power(arr1,arr2))\n",
        "#OutputPower:[132729]\n",
        "print(\"Exp:\",np.exp(arr1))\n",
        "#OutputExp:[2.718281837.389056120.08553692]"
      ],
      "metadata": {
        "colab": {
          "base_uri": "https://localhost:8080/"
        },
        "id": "RuI1xcTSTVKX",
        "outputId": "58bdd352-3dee-4392-f9e4-d3a3d622c42d"
      },
      "execution_count": null,
      "outputs": [
        {
          "output_type": "stream",
          "name": "stdout",
          "text": [
            "Add: [5 7 9]\n",
            "Subtract: [-3 -3 -3]\n",
            "Divide: [0.25 0.4  0.5 ]\n",
            "Multiply: [ 4 10 18]\n",
            "Power: [  1  32 729]\n",
            "Exp: [ 2.71828183  7.3890561  20.08553692]\n"
          ]
        }
      ]
    },
    {
      "cell_type": "markdown",
      "source": [
        "# 2.Matrix Multiplications.\n",
        " **Sample Code form slide-44-Using”np.dot”.**"
      ],
      "metadata": {
        "id": "kejvcScLTeCC"
      }
    },
    {
      "cell_type": "code",
      "source": [
        "import numpy as np\n",
        "#Definetwomatrices\n",
        "A=np.array([[1,2,3],[4,5,6]])\n",
        "B=np.array([[7,8],[9,10],[11,12]])\n",
        "#Matrixmultiplicationusingnp.dot\n",
        "result_dot=np.dot(A,B)\n",
        "print(\"Resultwith np.dot:\\n\",result_dot)#Outputshape:(2,2)"
      ],
      "metadata": {
        "colab": {
          "base_uri": "https://localhost:8080/"
        },
        "id": "iZ8iSMnbTldL",
        "outputId": "6fb32f53-9e23-4f2d-a0a8-8b66db922464"
      },
      "execution_count": null,
      "outputs": [
        {
          "output_type": "stream",
          "name": "stdout",
          "text": [
            "Resultwith np.dot:\n",
            " [[ 58  64]\n",
            " [139 154]]\n"
          ]
        }
      ]
    },
    {
      "cell_type": "markdown",
      "source": [
        "**Sample Code form slide-45-Using \"np.matmul\"**"
      ],
      "metadata": {
        "id": "MGOGiktGTvWh"
      }
    },
    {
      "cell_type": "code",
      "source": [
        "import numpy as np\n",
        "#Definetwomatrices\n",
        "A=np.array([[1,2,3],[4,5,6]])\n",
        "B=np.array([[7,8],[9,10],[11,12]])\n",
        "#Matrixmultiplicationusing@operator\n",
        "result_at=A@B\n",
        "print(\"Resultwith @operator:\\n\",result_at)#Outputshape:(2,2)\n",
        "#Matrixmultiplicationusingnp.matmul\n",
        "result_matmul=np.matmul(A,B)\n",
        "print(\"Resultwith np.matmul:\\n\",result_matmul)#Outputshape:(2,2)"
      ],
      "metadata": {
        "colab": {
          "base_uri": "https://localhost:8080/"
        },
        "id": "WzlZ_ZAkT1vT",
        "outputId": "05be9c6b-ba62-43cb-b97a-d0b6e85a0be9"
      },
      "execution_count": null,
      "outputs": [
        {
          "output_type": "stream",
          "name": "stdout",
          "text": [
            "Resultwith @operator:\n",
            " [[ 58  64]\n",
            " [139 154]]\n",
            "Resultwith np.matmul:\n",
            " [[ 58  64]\n",
            " [139 154]]\n"
          ]
        }
      ]
    },
    {
      "cell_type": "markdown",
      "source": [
        "# 3.4 Linear Algebra with Numpy- np.linalg:\n",
        " **Sample Code form slide- 48- Common linear algebra operation with np.linalg.**"
      ],
      "metadata": {
        "id": "UblJrh05UEdB"
      }
    },
    {
      "cell_type": "code",
      "source": [
        "import numpy as np\n",
        "A = np.array([[1, 2], [3, 4]])\n",
        "B = np.array([5, 6])\n",
        "print(\"Inverse:\\n\", np.linalg.inv(A))\n",
        "# Output: Inverse: [[-2. 1. ], [ 1.5-0.5]]\n",
        "print(\"Determinant:\", np.linalg.det(A))\n",
        "# Output: Determinant:-2.0\n",
        "print(\"Frobenius Norm:\", np.linalg.norm(A, 'fro'))\n",
        "# Output: Frobenius Norm: 5.4772\n",
        "print(\"2-Norm (Euclidean):\", np.linalg.norm(A))\n",
        "# Outptut: 2-Norm(Euclidean): 5.4772\n",
        "print(\"Solution x:\", np.linalg.solve(A, B))\n",
        "#Output: Solution x: [-4. 4.5]"
      ],
      "metadata": {
        "colab": {
          "base_uri": "https://localhost:8080/"
        },
        "id": "B5dugqT2UHyO",
        "outputId": "2d85f013-3afd-47de-f89e-0c93db0a135d"
      },
      "execution_count": null,
      "outputs": [
        {
          "output_type": "stream",
          "name": "stdout",
          "text": [
            "Inverse:\n",
            " [[-2.   1. ]\n",
            " [ 1.5 -0.5]]\n",
            "Determinant: -2.0000000000000004\n",
            "Frobenius Norm: 5.477225575051661\n",
            "2-Norm (Euclidean): 5.477225575051661\n",
            "Solution x: [-4.   4.5]\n"
          ]
        }
      ]
    },
    {
      "cell_type": "markdown",
      "source": [
        "# 4 TO-DO-Task\n",
        " **Please complete all the problem listed below.**\n",
        "\n",
        "# 4.1 WarmingUpExercise: Basic Vector and Matrix Operation with Numpy.\n",
        " **Problem- 1: Array Creation:**\n",
        " Complete the following Tasks:"
      ],
      "metadata": {
        "id": "4u4M731pUshK"
      }
    },
    {
      "cell_type": "markdown",
      "source": [
        "**1. Initialize an empty array with size 2X2.**"
      ],
      "metadata": {
        "id": "YwZpfoA2UwHu"
      }
    },
    {
      "cell_type": "code",
      "source": [
        "import numpy as np\n",
        "empty_array = np.empty((2,2))\n",
        "print(empty_array)"
      ],
      "metadata": {
        "colab": {
          "base_uri": "https://localhost:8080/"
        },
        "id": "nQEEAVA7VGtD",
        "outputId": "71707a20-023c-4868-8572-f3a3d3e96af3"
      },
      "execution_count": null,
      "outputs": [
        {
          "output_type": "stream",
          "name": "stdout",
          "text": [
            "[[1. 2.]\n",
            " [3. 4.]]\n"
          ]
        }
      ]
    },
    {
      "cell_type": "markdown",
      "source": [
        " **2. Initialize an all one array with size 4X2.**"
      ],
      "metadata": {
        "id": "y0-9E-dfX8iY"
      }
    },
    {
      "cell_type": "code",
      "source": [
        "import numpy as np\n",
        "array = np.ones((4, 2))\n",
        "print(array)"
      ],
      "metadata": {
        "colab": {
          "base_uri": "https://localhost:8080/"
        },
        "id": "5pELvUZdX8rE",
        "outputId": "344ca9ea-67c8-4f58-d058-002ec08ac666"
      },
      "execution_count": null,
      "outputs": [
        {
          "output_type": "stream",
          "name": "stdout",
          "text": [
            "[[1. 1.]\n",
            " [1. 1.]\n",
            " [1. 1.]\n",
            " [1. 1.]]\n"
          ]
        }
      ]
    },
    {
      "cell_type": "markdown",
      "source": [
        "**3. Return a new array of given shape and type, filled with fill value.{Hint: np.full}**"
      ],
      "metadata": {
        "id": "x2fcJCazX8xw"
      }
    },
    {
      "cell_type": "code",
      "source": [
        "import numpy as np\n",
        "filled_array = np.full((2,2), 5)\n",
        "print(filled_array)\n"
      ],
      "metadata": {
        "colab": {
          "base_uri": "https://localhost:8080/"
        },
        "id": "ktoZHzGEX85v",
        "outputId": "d2ad4fbe-df64-4248-871e-c1e7aeda109b"
      },
      "execution_count": null,
      "outputs": [
        {
          "output_type": "stream",
          "name": "stdout",
          "text": [
            "[[5 5]\n",
            " [5 5]]\n"
          ]
        }
      ]
    },
    {
      "cell_type": "markdown",
      "source": [
        "**4. Return a new array of zeros with same shape and type as a given array.{Hint: np.zeros like}**"
      ],
      "metadata": {
        "id": "ctjrzHmOX9AT"
      }
    },
    {
      "cell_type": "code",
      "source": [
        "import numpy as np\n",
        "def zeros_array(arr):\n",
        "  return np.zeros_like(arr)\n",
        "\n",
        "\n",
        "arr = np.array([[1,2,3],[4,5,6]])\n",
        "zeros_array = zeros_array(arr)\n",
        "print(zeros_array)"
      ],
      "metadata": {
        "colab": {
          "base_uri": "https://localhost:8080/"
        },
        "id": "MEpiP_JMX9He",
        "outputId": "44a0e446-9b11-4642-9cbd-11d0404792dd"
      },
      "execution_count": null,
      "outputs": [
        {
          "output_type": "stream",
          "name": "stdout",
          "text": [
            "[[0 0 0]\n",
            " [0 0 0]]\n"
          ]
        }
      ]
    },
    {
      "cell_type": "markdown",
      "source": [
        " **5. Return a new array of ones with same shape and type as a given array.{Hint: np.ones like}**"
      ],
      "metadata": {
        "id": "s-QcHMpOX9SU"
      }
    },
    {
      "cell_type": "code",
      "source": [
        "import numpy as np\n",
        "def ones_like(arr):\n",
        "  return np.ones_like(arr)\n",
        "\n",
        "arr= np.array([[4,5,6],[1,2,3]])\n",
        "new_arr = ones_like(arr)\n",
        "print(new_arr)"
      ],
      "metadata": {
        "colab": {
          "base_uri": "https://localhost:8080/"
        },
        "id": "HMaqNkNEX9Y6",
        "outputId": "ddd96d2c-b371-4ccb-b738-d8853ee2d6fe"
      },
      "execution_count": null,
      "outputs": [
        {
          "output_type": "stream",
          "name": "stdout",
          "text": [
            "[[1 1 1]\n",
            " [1 1 1]]\n"
          ]
        }
      ]
    },
    {
      "cell_type": "markdown",
      "source": [
        "**6. For an existing list new_list = [1,2,3,4] convert to an numpy array.{Hint: np.array()}**"
      ],
      "metadata": {
        "id": "0MAF0fK6X9g5"
      }
    },
    {
      "cell_type": "code",
      "source": [
        "import numpy as np\n",
        "\n",
        "new_list = [1,2,3,4]\n",
        "new_array = np.array(new_list)\n",
        "print(new_array)"
      ],
      "metadata": {
        "colab": {
          "base_uri": "https://localhost:8080/"
        },
        "id": "bSUBJy5qX9n1",
        "outputId": "165c797d-b408-4b22-d8a4-2b00f9f8ceec"
      },
      "execution_count": null,
      "outputs": [
        {
          "output_type": "stream",
          "name": "stdout",
          "text": [
            "[1 2 3 4]\n"
          ]
        }
      ]
    },
    {
      "cell_type": "markdown",
      "source": [
        "# 4.1.1 Problem- 2: Array Manipulation: Numerical Ranges and Array indexing:\n",
        " Complete the following tasks:\n",
        "\n",
        "\n",
        " **1. Create an array with values ranging from 10 to 49. {Hint:np.arrange()}.**"
      ],
      "metadata": {
        "id": "gBzNxY7pX9uQ"
      }
    },
    {
      "cell_type": "code",
      "source": [
        "import numpy as np\n",
        "\n",
        "range_array = np.arange(10,50)\n",
        "print(range_array)"
      ],
      "metadata": {
        "id": "TyCq49c-X903"
      },
      "execution_count": null,
      "outputs": []
    },
    {
      "cell_type": "markdown",
      "source": [
        " **2. Create a 3X3 matrix with values ranging from 0 to 8.**\n",
        " **{Hint:look for np.reshape()}**  "
      ],
      "metadata": {
        "id": "vIyTqQloX97a"
      }
    },
    {
      "cell_type": "code",
      "source": [
        "import numpy as np\n",
        "matrix = np.arange(9).reshape((3,3))\n",
        "print(matrix)"
      ],
      "metadata": {
        "colab": {
          "base_uri": "https://localhost:8080/"
        },
        "id": "1l6DtDTLX-CQ",
        "outputId": "39558b12-4c24-4098-85db-7a856f00faad"
      },
      "execution_count": null,
      "outputs": [
        {
          "output_type": "stream",
          "name": "stdout",
          "text": [
            "[[0 1 2]\n",
            " [3 4 5]\n",
            " [6 7 8]]\n"
          ]
        }
      ]
    },
    {
      "cell_type": "markdown",
      "source": [
        "**3. Create a 3X3 identity matrix.{Hint:np.eye()}**"
      ],
      "metadata": {
        "id": "sgunmTHWX-I-"
      }
    },
    {
      "cell_type": "code",
      "source": [
        "import numpy as np\n",
        "\n",
        "new_identity_matrix = np.eye(3)\n",
        "print(new_identity_matrix)"
      ],
      "metadata": {
        "colab": {
          "base_uri": "https://localhost:8080/"
        },
        "id": "fBr49fIAX-Qg",
        "outputId": "81bdc0ca-33ce-4459-f0ad-6ea8fc7fccd3"
      },
      "execution_count": null,
      "outputs": [
        {
          "output_type": "stream",
          "name": "stdout",
          "text": [
            "[[1. 0. 0.]\n",
            " [0. 1. 0.]\n",
            " [0. 0. 1.]]\n"
          ]
        }
      ]
    },
    {
      "cell_type": "markdown",
      "source": [
        " **4. Create a random array of size 30 and find the mean of the array.**\n",
        " **{Hint:check for np.random.random() and array.mean() function}**"
      ],
      "metadata": {
        "id": "Ya-SqbWyYqMf"
      }
    },
    {
      "cell_type": "code",
      "source": [
        "import numpy as np\n",
        "\n",
        "random_array = np.random.random(30)\n",
        "mean_of_array = random_array.mean()\n",
        "print(mean_of_array)"
      ],
      "metadata": {
        "colab": {
          "base_uri": "https://localhost:8080/"
        },
        "id": "SnPtPPnOYqVK",
        "outputId": "accf46d4-099a-4f8b-8dfd-0916dda2aca9"
      },
      "execution_count": null,
      "outputs": [
        {
          "output_type": "stream",
          "name": "stdout",
          "text": [
            "0.4445632642252452\n"
          ]
        }
      ]
    },
    {
      "cell_type": "markdown",
      "source": [
        "**5. Create a 10X10 array with random values and find the minimum and maximum values.**"
      ],
      "metadata": {
        "id": "EcssPme0YqdE"
      }
    },
    {
      "cell_type": "code",
      "source": [
        "import numpy as np\n",
        "\n",
        "random_array = np.random.random(100).reshape((10,10))\n",
        "max_val = random_array.max()\n",
        "min_val = random_array.min()\n",
        "print(random_array)\n",
        "print(max_val)\n",
        "print(min_val)"
      ],
      "metadata": {
        "colab": {
          "base_uri": "https://localhost:8080/"
        },
        "id": "k5_5Ud4RYqjz",
        "outputId": "3f0cfb02-f64d-40a4-acc9-ea4d21c978c8"
      },
      "execution_count": null,
      "outputs": [
        {
          "output_type": "stream",
          "name": "stdout",
          "text": [
            "[[0.88382175 0.7271266  0.71933167 0.63793999 0.34721681 0.25852834\n",
            "  0.44718423 0.50938761 0.01887297 0.51031242]\n",
            " [0.33327982 0.87456863 0.44567977 0.44622193 0.93456264 0.41206877\n",
            "  0.67085247 0.95276657 0.42376797 0.37911331]\n",
            " [0.67941693 0.45995853 0.44694819 0.88644207 0.86364527 0.37169179\n",
            "  0.12058901 0.36241145 0.03231817 0.33823687]\n",
            " [0.55263351 0.37330341 0.04186162 0.94069037 0.92593824 0.37324889\n",
            "  0.77697343 0.23782289 0.89192843 0.13711921]\n",
            " [0.1139798  0.11261002 0.58827593 0.25363934 0.10475633 0.00836984\n",
            "  0.66135011 0.05450444 0.66049903 0.96536953]\n",
            " [0.75802358 0.55283433 0.35513352 0.38399579 0.86314706 0.13437629\n",
            "  0.09634995 0.34310824 0.69453158 0.40401656]\n",
            " [0.35709066 0.74115588 0.09202158 0.34540249 0.51417769 0.62712446\n",
            "  0.91416569 0.5785568  0.40556321 0.21182841]\n",
            " [0.25393165 0.67961282 0.54318464 0.04250245 0.50458016 0.84177713\n",
            "  0.44745169 0.62441002 0.28626725 0.4534911 ]\n",
            " [0.24087311 0.23471784 0.16839982 0.54823855 0.38666461 0.17883764\n",
            "  0.91013366 0.9955246  0.75585207 0.79306327]\n",
            " [0.03424642 0.74800774 0.97122744 0.15443214 0.64018931 0.74703988\n",
            "  0.74499385 0.22324829 0.53077078 0.98658386]]\n",
            "0.995524598709538\n",
            "0.008369835393383651\n"
          ]
        }
      ]
    },
    {
      "cell_type": "markdown",
      "source": [
        " **6. Create a zero array of size 10 and replace 5th element with 1.**"
      ],
      "metadata": {
        "id": "fU8ODxFAYqqQ"
      }
    },
    {
      "cell_type": "code",
      "source": [
        "import numpy as np\n",
        "\n",
        "zeros_array = np.zeros(10)\n",
        "zeros_array[4] = 1\n",
        "print(zeros_array)"
      ],
      "metadata": {
        "colab": {
          "base_uri": "https://localhost:8080/"
        },
        "id": "bk37uCZOYqv_",
        "outputId": "a398025a-c517-40ea-fa6c-377d9b4c27c6"
      },
      "execution_count": null,
      "outputs": [
        {
          "output_type": "stream",
          "name": "stdout",
          "text": [
            "[0. 0. 0. 0. 1. 0. 0. 0. 0. 0.]\n"
          ]
        }
      ]
    },
    {
      "cell_type": "markdown",
      "source": [
        " **7. Reverse an array arr = [1,2,0,0,4,0].**"
      ],
      "metadata": {
        "id": "m9DJYJ2XYq1e"
      }
    },
    {
      "cell_type": "code",
      "source": [
        "import numpy as np\n",
        "\n",
        "arr = [1,2,0,0,4,0]\n",
        "print(\"Orginal array: \",arr)\n",
        "arr.reverse()\n",
        "print(\"Reveresed array: \",arr)"
      ],
      "metadata": {
        "colab": {
          "base_uri": "https://localhost:8080/"
        },
        "id": "xoQF8deCdvsc",
        "outputId": "18516d58-57fe-47a4-e646-a9df2cdba22b"
      },
      "execution_count": null,
      "outputs": [
        {
          "output_type": "stream",
          "name": "stdout",
          "text": [
            "Orginal array:  [1, 2, 0, 0, 4, 0]\n",
            "Reveresed array:  [0, 4, 0, 0, 2, 1]\n"
          ]
        }
      ]
    },
    {
      "cell_type": "markdown",
      "source": [
        " **8. Create a 2d array with 1 on border and 0 inside.**"
      ],
      "metadata": {
        "id": "aYCYDrv9YrAM"
      }
    },
    {
      "cell_type": "code",
      "source": [
        "import numpy as np\n",
        "\n",
        "arr = np.zeros((5, 5))\n",
        "arr[0, :] = 1\n",
        "arr[-1, :] = 1\n",
        "arr[:, 0] = 1\n",
        "arr[:, -1] = 1\n",
        "print(\"2d array: \\n\",arr)"
      ],
      "metadata": {
        "colab": {
          "base_uri": "https://localhost:8080/"
        },
        "id": "tXhQ3kY6Yq63",
        "outputId": "76f42576-9431-4dd3-a999-a6b25a8b5e1e"
      },
      "execution_count": null,
      "outputs": [
        {
          "output_type": "stream",
          "name": "stdout",
          "text": [
            "2d array: \n",
            " [[1. 1. 1. 1. 1.]\n",
            " [1. 0. 0. 0. 1.]\n",
            " [1. 0. 0. 0. 1.]\n",
            " [1. 0. 0. 0. 1.]\n",
            " [1. 1. 1. 1. 1.]]\n"
          ]
        }
      ]
    },
    {
      "cell_type": "markdown",
      "source": [
        " **9. Create a 8X8 matrix and fill it with a checkerboard pattern.**"
      ],
      "metadata": {
        "id": "mOpNo9uRY_1v"
      }
    },
    {
      "cell_type": "code",
      "source": [
        "import numpy as np\n",
        "\n",
        "checkerboard = np.zeros((8, 8))\n",
        "checkerboard[::2, ::2] = 1\n",
        "checkerboard[::2, 1::2] = 1\n",
        "checkerboard[1::2, ::2] = 1\n",
        "checkerboard[1::2, 1::2] = 0\n",
        "print(\"Checkboard Pattern: \\n\",checkerboard)\n"
      ],
      "metadata": {
        "colab": {
          "base_uri": "https://localhost:8080/"
        },
        "id": "ZvG9OdcSYrFe",
        "outputId": "0a846058-6fa7-4284-979e-616347864087"
      },
      "execution_count": null,
      "outputs": [
        {
          "output_type": "stream",
          "name": "stdout",
          "text": [
            "Checkboard Pattern: \n",
            " [[1. 1. 1. 1. 1. 1. 1. 1.]\n",
            " [1. 0. 1. 0. 1. 0. 1. 0.]\n",
            " [1. 1. 1. 1. 1. 1. 1. 1.]\n",
            " [1. 0. 1. 0. 1. 0. 1. 0.]\n",
            " [1. 1. 1. 1. 1. 1. 1. 1.]\n",
            " [1. 0. 1. 0. 1. 0. 1. 0.]\n",
            " [1. 1. 1. 1. 1. 1. 1. 1.]\n",
            " [1. 0. 1. 0. 1. 0. 1. 0.]]\n"
          ]
        }
      ]
    },
    {
      "cell_type": "markdown",
      "source": [
        "# Problem- 3: Array Operations:\n",
        " For the following arrays:\n",
        "\n",
        " **x = np.array([[1,2],[3,5]]) and y = np.array([[5,6],[7,8]]);**\n",
        "\n",
        " **v = np.array([9,10]) and w = np.array([11,12]);**\n",
        "\n",
        " Complete all the task using numpy:"
      ],
      "metadata": {
        "id": "cQGZVI2nZADZ"
      }
    },
    {
      "cell_type": "markdown",
      "source": [
        "**1. Add the two array.**"
      ],
      "metadata": {
        "id": "tiR9IJYtZQFe"
      }
    },
    {
      "cell_type": "code",
      "source": [
        "import numpy as np\n",
        "\n",
        "x = np.array([[1, 2], [3, 5]])\n",
        "y = np.array([[5, 6], [7, 8]])\n",
        "\n",
        "result = x + y\n",
        "\n",
        "print(\"Array x:\\n\", x)\n",
        "print(\"Array y:\\n\", y)\n",
        "print(\"Sum of x and y:\\n\", result)"
      ],
      "metadata": {
        "colab": {
          "base_uri": "https://localhost:8080/"
        },
        "id": "axarQ_9JZAKx",
        "outputId": "f9678e03-d669-4dbf-96cc-db1ddb5c5421"
      },
      "execution_count": null,
      "outputs": [
        {
          "output_type": "stream",
          "name": "stdout",
          "text": [
            "Array x:\n",
            " [[1 2]\n",
            " [3 5]]\n",
            "Array y:\n",
            " [[5 6]\n",
            " [7 8]]\n",
            "Sum of x and y:\n",
            " [[ 6  8]\n",
            " [10 13]]\n"
          ]
        }
      ]
    },
    {
      "cell_type": "markdown",
      "source": [
        "**2. Subtract the two array.**"
      ],
      "metadata": {
        "id": "c29-jNXpZAQ_"
      }
    },
    {
      "cell_type": "code",
      "source": [
        "import numpy as np\n",
        "\n",
        "x = np.array([[1, 2], [3, 5]])\n",
        "y = np.array([[5, 6], [7, 8]])\n",
        "\n",
        "result = x - y\n",
        "\n",
        "print(\"Array x:\\n\", x)\n",
        "print(\"Array y:\\n\", y)\n",
        "print(\"Difference of x and y:\\n\", result)"
      ],
      "metadata": {
        "colab": {
          "base_uri": "https://localhost:8080/"
        },
        "id": "pPOCQ7c1ZAXs",
        "outputId": "5a16c361-368a-4882-9759-0f23d3ebb5b6"
      },
      "execution_count": null,
      "outputs": [
        {
          "output_type": "stream",
          "name": "stdout",
          "text": [
            "Array x:\n",
            " [[1 2]\n",
            " [3 5]]\n",
            "Array y:\n",
            " [[5 6]\n",
            " [7 8]]\n",
            "Difference of x and y:\n",
            " [[-4 -4]\n",
            " [-4 -3]]\n"
          ]
        }
      ]
    },
    {
      "cell_type": "markdown",
      "source": [
        "**3. Multiply the array with any integers of your choice.**"
      ],
      "metadata": {
        "id": "ftLdihoXZWxC"
      }
    },
    {
      "cell_type": "code",
      "source": [
        "import numpy as np\n",
        "\n",
        "x = np.array([[1, 2], [3, 5]])\n",
        "\n",
        "result = x * 3\n",
        "\n",
        "print(\"Array x:\\n\", x)\n",
        "print(\"Array x multiplied by 3:\\n\", result)"
      ],
      "metadata": {
        "id": "6Q1mzRduZW2n"
      },
      "execution_count": null,
      "outputs": []
    },
    {
      "cell_type": "markdown",
      "source": [
        " **4. Find the square of each element of the array.**"
      ],
      "metadata": {
        "id": "0YdM3elIZXGy"
      }
    },
    {
      "cell_type": "code",
      "source": [
        "import numpy as np\n",
        "\n",
        "x = np.array([[1, 2], [3, 5]])\n",
        "\n",
        "result = x ** 2\n",
        "\n",
        "print(\"Array x:\\n\", x)\n",
        "print(\"Square:\\n\", result)"
      ],
      "metadata": {
        "colab": {
          "base_uri": "https://localhost:8080/"
        },
        "id": "weCHgJ_fe223",
        "outputId": "43dfb215-d5e8-4abb-c32a-7ff7d4ca9230"
      },
      "execution_count": null,
      "outputs": [
        {
          "output_type": "stream",
          "name": "stdout",
          "text": [
            "Array x:\n",
            " [[1 2]\n",
            " [3 5]]\n",
            "Square:\n",
            " [[ 1  4]\n",
            " [ 9 25]]\n"
          ]
        }
      ]
    },
    {
      "cell_type": "markdown",
      "source": [
        "**5. Find the dot product between: v(and)w ; x(and)v ; x(and)y.**"
      ],
      "metadata": {
        "id": "9hHiYYNhZW8H"
      }
    },
    {
      "cell_type": "code",
      "source": [
        "import numpy as np\n",
        "\n",
        "x = np.array([[1, 2], [3, 5]])\n",
        "y = np.array([[5, 6], [7, 8]])\n",
        "v = np.array([9, 10])\n",
        "w = np.array([11, 12])\n",
        "\n",
        "dot_v_w = np.dot(v, w)\n",
        "dot_x_v = np.dot(x, v)\n",
        "dot_x_y = np.dot(x, y)\n",
        "\n",
        "print(\"Dot product of v and w:\", dot_v_w)\n",
        "print(\"Dot product of x and v:\\n\", dot_x_v)\n",
        "print(\"Dot product of x and y:\\n\", dot_x_y)"
      ],
      "metadata": {
        "id": "yrqwKzXQZrr2"
      },
      "execution_count": null,
      "outputs": []
    },
    {
      "cell_type": "markdown",
      "source": [
        "**6. Concatenate x(and)y along row and Concatenate v(and)w along column.**\n",
        "\n",
        " {Hint:try np.concatenate() or np.vstack() functions."
      ],
      "metadata": {
        "id": "_2ZyFwoPZYwR"
      }
    },
    {
      "cell_type": "code",
      "source": [
        "import numpy as np\n",
        "\n",
        "x = np.array([[1, 2], [3, 5]])\n",
        "y = np.array([[5, 6], [7, 8]])\n",
        "v = np.array([9, 10])\n",
        "w = np.array([11, 12])\n",
        "\n",
        "xy_concatenated = np.concatenate((x, y), axis=0)\n",
        "\n",
        "vw_concatenated = np.column_stack((v, w))\n",
        "\n",
        "print(\"Concatenated x and y along row:\")\n",
        "print(xy_concatenated)\n",
        "\n",
        "print(\"\\nConcatenated v and w along column:\")\n",
        "print(vw_concatenated)\n"
      ],
      "metadata": {
        "id": "VB7RBnVVZXBr"
      },
      "execution_count": null,
      "outputs": []
    },
    {
      "cell_type": "markdown",
      "source": [
        "**7. Concatenate x(and)v; if you get an error, observe and explain why did you get the error?**"
      ],
      "metadata": {
        "id": "9gukAuDQZZLe"
      }
    },
    {
      "cell_type": "code",
      "source": [
        "import numpy as np\n",
        "\n",
        "x = np.array([[1, 2], [3, 5]])\n",
        "v = np.array([9, 10])\n",
        "\n",
        "try:\n",
        "    result = np.concatenate((x, v), axis=0)\n",
        "    print(\"Concatenated x and v along row:\")\n",
        "    print(result)\n",
        "except ValueError as e:\n",
        "    print(f\"Error: {e}\")\n"
      ],
      "metadata": {
        "colab": {
          "base_uri": "https://localhost:8080/"
        },
        "id": "pBbhr7C0ZZSc",
        "outputId": "67a38b2c-7f26-40de-c241-73dcfd113da2"
      },
      "execution_count": null,
      "outputs": [
        {
          "output_type": "stream",
          "name": "stdout",
          "text": [
            "Error: all the input arrays must have same number of dimensions, but the array at index 0 has 2 dimension(s) and the array at index 1 has 1 dimension(s)\n"
          ]
        }
      ]
    },
    {
      "cell_type": "markdown",
      "source": [
        "# Error Explanation:\n",
        "\n",
        "When using np.conctenate, the arrays must have the same dimensions along all axes except the axis being concatenated. Here, x has two dimensions, but v has only one, so their shapes are incompatible for concatenation."
      ],
      "metadata": {
        "id": "0vrZlq9SZZYA"
      }
    },
    {
      "cell_type": "markdown",
      "source": [
        "# Problem- 4: Matrix Operations:\n",
        "\n",
        " • For the following arrays:\n",
        "\n",
        " **A = np.array([[3,4],[7,8]]) and B = np.array([[5,3],[2,1]]);**\n",
        "\n",
        " Prove following with Numpy:\n",
        "\n",
        " **1. Prove A.A−1 = I.**\n",
        "\n",
        " **2. Prove AB= BA.**\n",
        "\n",
        " **3. Prove (AB)T = BTAT.**"
      ],
      "metadata": {
        "id": "TgKymxkqgxoI"
      }
    },
    {
      "cell_type": "code",
      "source": [
        "import numpy as np\n",
        "\n",
        "A = np.array([[3, 4], [7, 8]])\n",
        "\n",
        "# Compute inverse of A\n",
        "A_inv = np.linalg.inv(A)\n",
        "\n",
        "# Multiply A and A_inv\n",
        "result = np.dot(A, A_inv)\n",
        "\n",
        "# Identity matrix (2x2)\n",
        "I = np.eye(2)\n",
        "\n",
        "# Check result\n",
        "print(\"A * A^-1:\")\n",
        "print(result)\n",
        "print(\"\\nIs A * A^-1 equal to I?\", np.allclose(result, I))"
      ],
      "metadata": {
        "colab": {
          "base_uri": "https://localhost:8080/"
        },
        "id": "x4SrDwyYhBos",
        "outputId": "2d8933b2-9eb1-4c75-82fb-d3e6a84369d0"
      },
      "execution_count": null,
      "outputs": [
        {
          "output_type": "stream",
          "name": "stdout",
          "text": [
            "A * A^-1:\n",
            "[[1.00000000e+00 0.00000000e+00]\n",
            " [1.77635684e-15 1.00000000e+00]]\n",
            "\n",
            "Is A * A^-1 equal to I? True\n"
          ]
        }
      ]
    },
    {
      "cell_type": "code",
      "source": [
        "A = np.array([[3, 4], [7, 8]])\n",
        "B = np.array([[5, 3], [2, 1]])\n",
        "# Compute AB and BA\n",
        "AB = np.dot(A, B)\n",
        "BA = np.dot(B, A)\n",
        "\n",
        "# Print and compare\n",
        "print(\"AB:\")\n",
        "print(AB)\n",
        "print(\"\\nBA:\")\n",
        "print(BA)\n",
        "print(\"\\nIs AB equal to BA?\", np.array_equal(AB, BA))"
      ],
      "metadata": {
        "colab": {
          "base_uri": "https://localhost:8080/"
        },
        "id": "FaDeO2-qhFtM",
        "outputId": "51610292-b21e-43c4-91b9-637ed6ccecca"
      },
      "execution_count": null,
      "outputs": [
        {
          "output_type": "stream",
          "name": "stdout",
          "text": [
            "AB:\n",
            "[[23 13]\n",
            " [51 29]]\n",
            "\n",
            "BA:\n",
            "[[36 44]\n",
            " [13 16]]\n",
            "\n",
            "Is AB equal to BA? False\n"
          ]
        }
      ]
    },
    {
      "cell_type": "code",
      "source": [
        "# Compute (AB)^T\n",
        "AB_transpose = np.dot(A, B).T\n",
        "\n",
        "# Compute B^T * A^T\n",
        "BT_AT = np.dot(B.T, A.T)\n",
        "\n",
        "# Print and compare\n",
        "print(\"(AB)^T:\")\n",
        "print(AB_transpose)\n",
        "print(\"\\nB^T * A^T:\")\n",
        "print(BT_AT)\n",
        "print(\"\\nIs (AB)^T equal to B^T * A^T?\", np.allclose(AB_transpose, BT_AT))\n"
      ],
      "metadata": {
        "colab": {
          "base_uri": "https://localhost:8080/"
        },
        "id": "9RYAP-JXhFv4",
        "outputId": "effad55e-1d1b-4750-89ce-61ddfe6580fb"
      },
      "execution_count": null,
      "outputs": [
        {
          "output_type": "stream",
          "name": "stdout",
          "text": [
            "(AB)^T:\n",
            "[[23 51]\n",
            " [13 29]]\n",
            "\n",
            "B^T * A^T:\n",
            "[[23 51]\n",
            " [13 29]]\n",
            "\n",
            "Is (AB)^T equal to B^T * A^T? True\n"
          ]
        }
      ]
    },
    {
      "cell_type": "markdown",
      "source": [
        " **• Solve the following system of Linear equation using Inverse Methods.**\n",
        "\n",
        " 2x −3y+z =−1\n",
        "\n",
        " x −y+2z =−3\n",
        "\n",
        " 3x +y−z =9\n",
        "\n",
        " {Hint: First use Numpy array to represent the equation in Matrix form. Then Solve for: AX = B}\n",
        "\n",
        " • Now: solve the above equation using np.linalg.inv function.{Explore more about ”linalg” function\n",
        " of Numpy}"
      ],
      "metadata": {
        "id": "P_rfNw5qhXnQ"
      }
    },
    {
      "cell_type": "code",
      "source": [
        "import numpy as np\n",
        "A = np.array([[2, -3, 1],\n",
        "              [1, -1, 2],\n",
        "              [3, 1, -1]])\n",
        "B = np.array([-1, -3, 9])\n",
        "\n",
        "# Compute the inverse of A\n",
        "A_inv = np.linalg.inv(A)\n",
        "\n",
        "# Solve for X\n",
        "X = np.dot(A_inv, B)\n",
        "\n",
        "# Display the solution\n",
        "print(\"Solution (x, y, z):\")\n",
        "print(X)"
      ],
      "metadata": {
        "colab": {
          "base_uri": "https://localhost:8080/"
        },
        "id": "le2jd4GlhpLV",
        "outputId": "50980490-ffc4-49c0-da13-7f8a740eb7c0"
      },
      "execution_count": null,
      "outputs": [
        {
          "output_type": "stream",
          "name": "stdout",
          "text": [
            "Solution (x, y, z):\n",
            "[ 2.  1. -2.]\n"
          ]
        }
      ]
    }
  ]
}