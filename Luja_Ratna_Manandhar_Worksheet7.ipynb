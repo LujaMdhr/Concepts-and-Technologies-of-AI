{
  "nbformat": 4,
  "nbformat_minor": 0,
  "metadata": {
    "colab": {
      "provenance": []
    },
    "kernelspec": {
      "name": "python3",
      "display_name": "Python 3"
    },
    "language_info": {
      "name": "python"
    }
  },
  "cells": [
    {
      "cell_type": "markdown",
      "source": [
        "# **Student Name: Luja Ratna Manandhar**\n",
        "# **Student ID: 2407087**"
      ],
      "metadata": {
        "id": "lpnzy7tppH8i"
      }
    },
    {
      "cell_type": "code",
      "source": [
        "from google.colab import drive\n",
        "drive.mount('/content/drive')"
      ],
      "metadata": {
        "colab": {
          "base_uri": "https://localhost:8080/"
        },
        "id": "zX3iKytcmsYd",
        "outputId": "55c78f5b-07c7-4a2d-f30c-dde06a36da6c"
      },
      "execution_count": 15,
      "outputs": [
        {
          "output_type": "stream",
          "name": "stdout",
          "text": [
            "Drive already mounted at /content/drive; to attempt to forcibly remount, call drive.mount(\"/content/drive\", force_remount=True).\n"
          ]
        }
      ]
    },
    {
      "cell_type": "code",
      "execution_count": 16,
      "metadata": {
        "id": "w7BNWNbF33I-",
        "colab": {
          "base_uri": "https://localhost:8080/"
        },
        "outputId": "92d56b38-907e-4b93-ccd8-67f19ae3648a"
      },
      "outputs": [
        {
          "output_type": "stream",
          "name": "stdout",
          "text": [
            "(768, 8)\n"
          ]
        }
      ],
      "source": [
        "\n",
        "\n",
        "import pandas as pd\n",
        "data=pd.read_csv(\"/content/drive/MyDrive/Datasets/Data(Kaggle)/diabetes2.csv\")\n",
        "X=data.drop(columns=[\"BloodPressure\"])\n",
        "print(X.shape)\n"
      ]
    },
    {
      "cell_type": "code",
      "source": [
        "y=data[\"BloodPressure\"]\n",
        "print(y.shape)"
      ],
      "metadata": {
        "colab": {
          "base_uri": "https://localhost:8080/"
        },
        "id": "EX9hg5xO8OIy",
        "outputId": "b4d071dc-4cac-496a-f4f5-158a2ea76902"
      },
      "execution_count": 17,
      "outputs": [
        {
          "output_type": "stream",
          "name": "stdout",
          "text": [
            "(768,)\n"
          ]
        }
      ]
    },
    {
      "cell_type": "code",
      "source": [
        "n_class=2\n",
        "filtered_data=data[data[\"BloodPressure\"]<n_class]\n",
        "X=filtered_data.drop(columns=[\"BloodPressure\"])\n",
        "y=filtered_data[\"BloodPressure\"]\n",
        "print(X.shape)\n",
        "print(y.shape)"
      ],
      "metadata": {
        "colab": {
          "base_uri": "https://localhost:8080/"
        },
        "id": "cwFRTAwp8WkX",
        "outputId": "1e690534-07fe-42ce-bb4d-0714731a477f"
      },
      "execution_count": 18,
      "outputs": [
        {
          "output_type": "stream",
          "name": "stdout",
          "text": [
            "(35, 8)\n",
            "(35,)\n"
          ]
        }
      ]
    },
    {
      "cell_type": "code",
      "source": [
        "from sklearn.preprocessing import StandardScaler\n",
        "data=[[0,0],[0,0],[1,1],[1,1]]\n",
        "scaler=StandardScaler()\n",
        "scaler.fit(data)\n",
        "transformed_data=scaler.transform(data)\n",
        "print(transformed_data)\n",
        "transformed_data_direct=scaler.fit_transform(data)\n",
        "print(transformed_data_direct)"
      ],
      "metadata": {
        "colab": {
          "base_uri": "https://localhost:8080/"
        },
        "id": "ZJdouLvc8nt3",
        "outputId": "89e27472-401b-48c9-9f64-1796ac97c81f"
      },
      "execution_count": 19,
      "outputs": [
        {
          "output_type": "stream",
          "name": "stdout",
          "text": [
            "[[-1. -1.]\n",
            " [-1. -1.]\n",
            " [ 1.  1.]\n",
            " [ 1.  1.]]\n",
            "[[-1. -1.]\n",
            " [-1. -1.]\n",
            " [ 1.  1.]\n",
            " [ 1.  1.]]\n"
          ]
        }
      ]
    },
    {
      "cell_type": "code",
      "source": [
        "from sklearn.model_selection import train_test_split\n",
        "\n",
        "# Splitting the data into training and testing sets\n",
        "X_train, X_test, y_train, y_test = train_test_split(\n",
        "    X, y,                      # Features and target variable\n",
        "    test_size=0.25,            # Proportion of data to be used for testing (float between 0 and 1)\n",
        "    train_size=None,           # Optional, can be set if test_size is None\n",
        "    random_state=None,         # Seed for reproducibility\n",
        "    shuffle=True,              # Shuffle the data before splitting\n",
        "    stratify=None              # Maintain class distribution for classification tasks\n",
        ")\n"
      ],
      "metadata": {
        "id": "A2ILJ53NACOu"
      },
      "execution_count": 20,
      "outputs": []
    },
    {
      "cell_type": "code",
      "source": [
        "from sklearn . model_selection import train_test_split\n",
        "import numpy as np\n",
        "# Example dataset\n",
        "X = np . array ([[1 , 2] , [3 , 4] , [5 , 6] , [7 , 8] , [9 , 10]])\n",
        "y = np . array ([0 , 1 , 0 , 1 , 0])\n",
        "# Split the dataset (80% training , 20% testing )\n",
        "X_train , X_test , y_train , y_test = train_test_split (X , y ,test_size =0.2 , random_state =42)\n",
        "print (\" X_train :\", X_train )\n",
        "print (\" X_test :\", X_test )\n",
        "print (\" y_train :\", y_train )\n",
        "print (\" y_test :\", y_test )"
      ],
      "metadata": {
        "colab": {
          "base_uri": "https://localhost:8080/"
        },
        "id": "9QWS8xSsATwM",
        "outputId": "e74458c5-2a8c-4307-cb2a-f834d86ef808"
      },
      "execution_count": 21,
      "outputs": [
        {
          "output_type": "stream",
          "name": "stdout",
          "text": [
            " X_train : [[ 9 10]\n",
            " [ 5  6]\n",
            " [ 1  2]\n",
            " [ 7  8]]\n",
            " X_test : [[3 4]]\n",
            " y_train : [0 0 0 1]\n",
            " y_test : [1]\n"
          ]
        }
      ]
    },
    {
      "cell_type": "code",
      "source": [
        "class Estimator:\n",
        "    def fit(self, X, y=None):\n",
        "        \"\"\"Fits estimator to data.\"\"\"\n",
        "        # Store the data to simulate learning\n",
        "        self.X_ = X\n",
        "        self.y_ = y\n",
        "        return self\n",
        "\n",
        "    def predict(self, X):\n",
        "        \"\"\"Makes predictions using the learned data.\"\"\"\n",
        "        # For this simple example, return the same values from the training data\n",
        "        # In a real estimator, this would involve applying a trained model to the new data X\n",
        "        if not hasattr(self, \"X_\"):\n",
        "            raise ValueError(\"Model has not been fitted yet.\")\n",
        "        return self.y_  # Returning the stored labels for demonstration purposes\n"
      ],
      "metadata": {
        "id": "CYTBlUgnBfE6"
      },
      "execution_count": 22,
      "outputs": []
    },
    {
      "cell_type": "code",
      "source": [
        "from sklearn.neighbors import KNeighborsClassifier\n",
        "from sklearn.datasets import load_iris\n",
        "from sklearn.model_selection import train_test_split\n",
        "\n",
        "# Load the Iris dataset\n",
        "data = load_iris()\n",
        "X, y = data.data, data.target\n",
        "\n",
        "# Split data into training and testing sets\n",
        "X_train, X_test, y_train, y_test = train_test_split(X, y, test_size=0.3, random_state=42)\n",
        "\n",
        "# Set hyper-parameters for the KNeighborsClassifier\n",
        "clf = KNeighborsClassifier(n_neighbors=5)\n",
        "\n",
        "# Train the model using the training data\n",
        "clf.fit(X_train, y_train)\n",
        "\n",
        "# Make predictions on the first 5 samples from X\n",
        "print(\"Predictions for the first 5 samples:\", clf.predict(X[:5]))\n",
        "\n",
        "# Compute class probabilities for the first 5 samples\n",
        "print(\"Class probabilities for the first 5 samples:\", clf.predict_proba(X[:5]))\n"
      ],
      "metadata": {
        "colab": {
          "base_uri": "https://localhost:8080/"
        },
        "id": "mTY6bLMFBz7Q",
        "outputId": "891b051d-ac5d-4a3d-93ce-c7fad1ec61d9"
      },
      "execution_count": 23,
      "outputs": [
        {
          "output_type": "stream",
          "name": "stdout",
          "text": [
            "Predictions for the first 5 samples: [0 0 0 0 0]\n",
            "Class probabilities for the first 5 samples: [[1. 0. 0.]\n",
            " [1. 0. 0.]\n",
            " [1. 0. 0.]\n",
            " [1. 0. 0.]\n",
            " [1. 0. 0.]]\n"
          ]
        }
      ]
    },
    {
      "cell_type": "code",
      "source": [
        "##Workshop questionssss\n",
        "\n",
        "\n",
        "import pandas as pd\n",
        "import numpy as np\n",
        "import matplotlib.pyplot as plt\n",
        "\n",
        "df= pd.read_csv('/content/drive/MyDrive/Datasets/Data(Kaggle)/diabetes2.csv')\n",
        "print(\"First 5 rows of the dataset:\")\n",
        "print(df.head())\n",
        "\n",
        "print(\"\\nData types of each column:\")\n",
        "print(df.dtypes)\n",
        "\n",
        "print(\"\\nMissing values in the dataset:\")\n",
        "print(df.isnull().sum())\n",
        "\n",
        "print(\"\\nSummary statistics:\")\n",
        "print(df.describe())\n"
      ],
      "metadata": {
        "colab": {
          "base_uri": "https://localhost:8080/"
        },
        "id": "pbkWOAXIC3tr",
        "outputId": "beebaa43-57e9-46d2-881b-421f2d906ba7"
      },
      "execution_count": 24,
      "outputs": [
        {
          "output_type": "stream",
          "name": "stdout",
          "text": [
            "First 5 rows of the dataset:\n",
            "   Pregnancies  Glucose  BloodPressure  SkinThickness  Insulin   BMI  \\\n",
            "0            6      148             72             35        0  33.6   \n",
            "1            1       85             66             29        0  26.6   \n",
            "2            8      183             64              0        0  23.3   \n",
            "3            1       89             66             23       94  28.1   \n",
            "4            0      137             40             35      168  43.1   \n",
            "\n",
            "   DiabetesPedigreeFunction  Age  Outcome  \n",
            "0                     0.627   50        1  \n",
            "1                     0.351   31        0  \n",
            "2                     0.672   32        1  \n",
            "3                     0.167   21        0  \n",
            "4                     2.288   33        1  \n",
            "\n",
            "Data types of each column:\n",
            "Pregnancies                   int64\n",
            "Glucose                       int64\n",
            "BloodPressure                 int64\n",
            "SkinThickness                 int64\n",
            "Insulin                       int64\n",
            "BMI                         float64\n",
            "DiabetesPedigreeFunction    float64\n",
            "Age                           int64\n",
            "Outcome                       int64\n",
            "dtype: object\n",
            "\n",
            "Missing values in the dataset:\n",
            "Pregnancies                 0\n",
            "Glucose                     0\n",
            "BloodPressure               0\n",
            "SkinThickness               0\n",
            "Insulin                     0\n",
            "BMI                         0\n",
            "DiabetesPedigreeFunction    0\n",
            "Age                         0\n",
            "Outcome                     0\n",
            "dtype: int64\n",
            "\n",
            "Summary statistics:\n",
            "       Pregnancies     Glucose  BloodPressure  SkinThickness     Insulin  \\\n",
            "count   768.000000  768.000000     768.000000     768.000000  768.000000   \n",
            "mean      3.845052  120.894531      69.105469      20.536458   79.799479   \n",
            "std       3.369578   31.972618      19.355807      15.952218  115.244002   \n",
            "min       0.000000    0.000000       0.000000       0.000000    0.000000   \n",
            "25%       1.000000   99.000000      62.000000       0.000000    0.000000   \n",
            "50%       3.000000  117.000000      72.000000      23.000000   30.500000   \n",
            "75%       6.000000  140.250000      80.000000      32.000000  127.250000   \n",
            "max      17.000000  199.000000     122.000000      99.000000  846.000000   \n",
            "\n",
            "              BMI  DiabetesPedigreeFunction         Age     Outcome  \n",
            "count  768.000000                768.000000  768.000000  768.000000  \n",
            "mean    31.992578                  0.471876   33.240885    0.348958  \n",
            "std      7.884160                  0.331329   11.760232    0.476951  \n",
            "min      0.000000                  0.078000   21.000000    0.000000  \n",
            "25%     27.300000                  0.243750   24.000000    0.000000  \n",
            "50%     32.000000                  0.372500   29.000000    0.000000  \n",
            "75%     36.600000                  0.626250   41.000000    1.000000  \n",
            "max     67.100000                  2.420000   81.000000    1.000000  \n"
          ]
        }
      ]
    },
    {
      "cell_type": "code",
      "source": [
        "from sklearn.model_selection import train_test_split\n",
        "from sklearn.linear_model import LinearRegression, LogisticRegression\n",
        "from sklearn.neighbors import KNeighborsClassifier\n",
        "from sklearn.metrics import mean_squared_error, r2_score, accuracy_score, confusion_matrix, classification_report\n",
        "\n",
        "X_reg = df.drop(columns=['BloodPressure', 'Outcome'])  # All columns except BloodPressure and Outcome\n",
        "y_reg = df['BloodPressure']\n",
        "X_train_reg, X_test_reg, y_train_reg, y_test_reg = train_test_split(X_reg, y_reg, test_size=0.2, random_state=42)\n",
        "reg_model = LinearRegression()\n",
        "reg_model.fit(X_train_reg, y_train_reg)\n",
        "\n",
        "# Predict on test set\n",
        "y_pred_reg = reg_model.predict(X_test_reg)\n",
        "\n",
        "# Evaluate\n",
        "print(\"Regression Evaluation:\")\n",
        "print(f\"Mean Squared Error (MSE): {mean_squared_error(y_test_reg, y_pred_reg)}\")\n",
        "print(f\"R^2 Score: {r2_score(y_test_reg, y_pred_reg)}\")"
      ],
      "metadata": {
        "colab": {
          "base_uri": "https://localhost:8080/"
        },
        "id": "d8Pnho3-DI7I",
        "outputId": "71d51952-15c5-40a5-af0e-9db257278ca2"
      },
      "execution_count": 25,
      "outputs": [
        {
          "output_type": "stream",
          "name": "stdout",
          "text": [
            "Regression Evaluation:\n",
            "Mean Squared Error (MSE): 408.8020357692283\n",
            "R^2 Score: 0.182134664007779\n"
          ]
        }
      ]
    },
    {
      "cell_type": "code",
      "source": [
        "X_clf = df.drop(columns=['Outcome'])\n",
        "y_clf = df['Outcome']\n",
        "X_train_clf, X_test_clf, y_train_clf, y_test_clf = train_test_split(X_clf, y_clf, test_size=0.2, random_state=42)\n",
        "clf_model_logreg = LogisticRegression(max_iter=1000)\n",
        "clf_model_logreg.fit(X_train_clf, y_train_clf)\n",
        "\n",
        "y_pred_clf_logreg = clf_model_logreg.predict(X_test_clf)\n",
        "\n",
        "# Evaluate\n",
        "print(\"Logistic Regression Evaluation:\")\n",
        "print(f\"Accuracy: {accuracy_score(y_test_clf, y_pred_clf_logreg)}\")\n",
        "print(f\"Confusion Matrix:\\n{confusion_matrix(y_test_clf, y_pred_clf_logreg)}\")\n",
        "print(f\"Classification Report:\\n{classification_report(y_test_clf, y_pred_clf_logreg)}\")"
      ],
      "metadata": {
        "colab": {
          "base_uri": "https://localhost:8080/"
        },
        "id": "t26EONOIDL3I",
        "outputId": "2cb0610d-ea35-4d70-84e6-10119d542409"
      },
      "execution_count": 26,
      "outputs": [
        {
          "output_type": "stream",
          "name": "stdout",
          "text": [
            "Logistic Regression Evaluation:\n",
            "Accuracy: 0.7467532467532467\n",
            "Confusion Matrix:\n",
            "[[78 21]\n",
            " [18 37]]\n",
            "Classification Report:\n",
            "              precision    recall  f1-score   support\n",
            "\n",
            "           0       0.81      0.79      0.80        99\n",
            "           1       0.64      0.67      0.65        55\n",
            "\n",
            "    accuracy                           0.75       154\n",
            "   macro avg       0.73      0.73      0.73       154\n",
            "weighted avg       0.75      0.75      0.75       154\n",
            "\n"
          ]
        }
      ]
    },
    {
      "cell_type": "code",
      "source": [
        "clf_model_knn = KNeighborsClassifier(n_neighbors=5)\n",
        "clf_model_knn.fit(X_train_clf, y_train_clf)\n",
        "\n",
        "# Predict on test set\n",
        "y_pred_clf_knn = clf_model_knn.predict(X_test_clf)\n",
        "\n",
        "# Evaluate\n",
        "print(\"KNN Evaluation:\")\n",
        "print(f\"Accuracy: {accuracy_score(y_test_clf, y_pred_clf_knn)}\")\n",
        "print(f\"Confusion Matrix:\\n{confusion_matrix(y_test_clf, y_pred_clf_knn)}\")\n",
        "print(f\"Classification Report:\\n{classification_report(y_test_clf, y_pred_clf_knn)}\")"
      ],
      "metadata": {
        "colab": {
          "base_uri": "https://localhost:8080/"
        },
        "id": "Scv-A2sYDOne",
        "outputId": "4bbf01e4-1e6c-4952-cc1f-db560423221f"
      },
      "execution_count": 27,
      "outputs": [
        {
          "output_type": "stream",
          "name": "stdout",
          "text": [
            "KNN Evaluation:\n",
            "Accuracy: 0.6623376623376623\n",
            "Confusion Matrix:\n",
            "[[70 29]\n",
            " [23 32]]\n",
            "Classification Report:\n",
            "              precision    recall  f1-score   support\n",
            "\n",
            "           0       0.75      0.71      0.73        99\n",
            "           1       0.52      0.58      0.55        55\n",
            "\n",
            "    accuracy                           0.66       154\n",
            "   macro avg       0.64      0.64      0.64       154\n",
            "weighted avg       0.67      0.66      0.67       154\n",
            "\n"
          ]
        }
      ]
    }
  ]
}